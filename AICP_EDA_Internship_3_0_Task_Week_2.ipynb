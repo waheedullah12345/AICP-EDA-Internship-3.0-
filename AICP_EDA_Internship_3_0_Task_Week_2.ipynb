{
  "nbformat": 4,
  "nbformat_minor": 0,
  "metadata": {
    "colab": {
      "provenance": []
    },
    "kernelspec": {
      "name": "python3",
      "display_name": "Python 3"
    },
    "language_info": {
      "name": "python"
    }
  },
  "cells": [
    {
      "cell_type": "markdown",
      "source": [
        "# **AICP EDA Internship 3.0 Task Week 2**"
      ],
      "metadata": {
        "id": "7YdUZQMRfWd2"
      }
    },
    {
      "cell_type": "markdown",
      "source": [
        "Q.1: **Pandas Series Without Using Dictionary**"
      ],
      "metadata": {
        "id": "vjAAFvW7cofL"
      }
    },
    {
      "cell_type": "code",
      "execution_count": 4,
      "metadata": {
        "id": "lE08HzW-cRSA",
        "colab": {
          "base_uri": "https://localhost:8080/"
        },
        "outputId": "f225ce55-19df-4cdb-c654-1b5a9cb17a73"
      },
      "outputs": [
        {
          "output_type": "stream",
          "name": "stdout",
          "text": [
            "a    1\n",
            "x    4\n",
            "c    9\n",
            "2    6\n",
            "e    7\n",
            "dtype: int64\n"
          ]
        }
      ],
      "source": [
        "import pandas as pd\n",
        "\n",
        "# Define the values and the corresponding index\n",
        "values = [1, 4, 9, 6, 7]\n",
        "index = ['a', 'x', 'c', '2', 'e']\n",
        "\n",
        "# Create the Series without using a dictionary\n",
        "series = pd.Series(values, index=index)\n",
        "print(series)\n"
      ]
    },
    {
      "cell_type": "markdown",
      "source": [
        "Q.2: **Pandas Series Using Dictionary**\n"
      ],
      "metadata": {
        "id": "7Oo7FhkUfT7J"
      }
    },
    {
      "cell_type": "code",
      "source": [
        "import pandas as pd\n",
        "\n",
        "# Creating a Series using a dictionary\n",
        "names_scores = {\"Bilal\": 42, \"Ayesha\": 38, \"Hadia\": 39}\n",
        "series_dict = pd.Series(names_scores)\n",
        "print(series_dict)\n"
      ],
      "metadata": {
        "id": "h59KPOIXcTsC",
        "colab": {
          "base_uri": "https://localhost:8080/"
        },
        "outputId": "9e61d690-1cbc-4f86-cb4c-81f1352a9927"
      },
      "execution_count": 6,
      "outputs": [
        {
          "output_type": "stream",
          "name": "stdout",
          "text": [
            "Bilal     42\n",
            "Ayesha    38\n",
            "Hadia     39\n",
            "dtype: int64\n"
          ]
        }
      ]
    },
    {
      "cell_type": "markdown",
      "source": [
        "Q.3: **DataFrame Using Python Dictionary**\n"
      ],
      "metadata": {
        "id": "9j7wFhHQfqgP"
      }
    },
    {
      "cell_type": "code",
      "source": [
        "# Creating a DataFrame using a dictionary\n",
        "weather_data = {\n",
        "    \"day\": [\"1/1/2017\", \"1/2/2017\", \"1/3/2017\", \"1/4/2017\", \"1/5/2017\", \"1/6/2017\"],\n",
        "    \"temperature\": [32, 35, 28, 24, 32, 31],\n",
        "    \"windspeed\": [6, 7, 2, 7, 4, 2],\n",
        "    \"event\": [\"Rain\", \"Sunny\", \"Snow\", \"Snow\", \"Rain\", \"Sunny\"]\n",
        "}\n",
        "df_weather = pd.DataFrame(weather_data)\n",
        "print(df_weather)\n"
      ],
      "metadata": {
        "colab": {
          "base_uri": "https://localhost:8080/"
        },
        "id": "io8EPQgsfidj",
        "outputId": "0db24dc7-23ba-4f81-ba9c-6e8ff789672a"
      },
      "execution_count": 7,
      "outputs": [
        {
          "output_type": "stream",
          "name": "stdout",
          "text": [
            "        day  temperature  windspeed  event\n",
            "0  1/1/2017           32          6   Rain\n",
            "1  1/2/2017           35          7  Sunny\n",
            "2  1/3/2017           28          2   Snow\n",
            "3  1/4/2017           24          7   Snow\n",
            "4  1/5/2017           32          4   Rain\n",
            "5  1/6/2017           31          2  Sunny\n"
          ]
        }
      ]
    },
    {
      "cell_type": "markdown",
      "source": [
        "Q.4: **In extension to above question, you are required to replace index by ['a','b','c','d','e','f']**\n"
      ],
      "metadata": {
        "id": "L1EQxHikf3m5"
      }
    },
    {
      "cell_type": "code",
      "source": [
        "# Replacing index in the DataFrame from Q.3\n",
        "df_weather.index = ['a', 'b', 'c', 'd', 'e', 'f']\n",
        "print(\"\\nUpdated DataFrame with new index:\\n\", df_weather)\n"
      ],
      "metadata": {
        "colab": {
          "base_uri": "https://localhost:8080/"
        },
        "id": "8FoBzXa3fikA",
        "outputId": "caa7dacb-20fd-4bc5-b994-0b848ceab5e3"
      },
      "execution_count": 8,
      "outputs": [
        {
          "output_type": "stream",
          "name": "stdout",
          "text": [
            "\n",
            "Updated DataFrame with new index:\n",
            "         day  temperature  windspeed  event\n",
            "a  1/1/2017           32          6   Rain\n",
            "b  1/2/2017           35          7  Sunny\n",
            "c  1/3/2017           28          2   Snow\n",
            "d  1/4/2017           24          7   Snow\n",
            "e  1/5/2017           32          4   Rain\n",
            "f  1/6/2017           31          2  Sunny\n"
          ]
        }
      ]
    },
    {
      "cell_type": "markdown",
      "source": [
        "Q.5: **In extension to above Q.3, calculate mean, miximum and minimum for label “temperature”**\n"
      ],
      "metadata": {
        "id": "RVcb4-F0gK6y"
      }
    },
    {
      "cell_type": "code",
      "source": [
        "# Calculating mean, max, and min for 'temperature' column in the DataFrame\n",
        "mean_temperature = df_weather['temperature'].mean()\n",
        "max_temperature = df_weather['temperature'].max()\n",
        "min_temperature = df_weather['temperature'].min()\n",
        "\n",
        "print(\"\\nTemperature statistics:\")\n",
        "print(f\"Mean: {mean_temperature}\")\n",
        "print(f\"Maximum: {max_temperature}\")\n",
        "print(f\"Minimum: {min_temperature}\")\n"
      ],
      "metadata": {
        "colab": {
          "base_uri": "https://localhost:8080/"
        },
        "id": "P3PllsWefitW",
        "outputId": "d85cb7c9-ad97-4018-9547-b166fed6ff1c"
      },
      "execution_count": 9,
      "outputs": [
        {
          "output_type": "stream",
          "name": "stdout",
          "text": [
            "\n",
            "Temperature statistics:\n",
            "Mean: 30.333333333333332\n",
            "Maximum: 35\n",
            "Minimum: 24\n"
          ]
        }
      ]
    },
    {
      "cell_type": "markdown",
      "source": [
        "Q.6: **Import CSV ‘people.csv’ in the given folder. Keep in mind the following instructions:\n",
        "You’re required to import only specific columns [\"First Name\", \"Sex\", \"Email\", “Phone”, “Job Title”]\n",
        "Set the following columns [\"Sex\", \"Job Title\"] as index columns\n",
        "Skip following rows [1,5]\n",
        "Export the CSV as “NewPeople.csv”**"
      ],
      "metadata": {
        "id": "OOkz-qs_gnt8"
      }
    },
    {
      "cell_type": "code",
      "source": [
        "import pandas as pd\n",
        "\n",
        "# Importing 'people.csv' with specified columns and skipping row 15\n",
        "people_df = pd.read_csv('people.csv', usecols=[\"First Name\", \"Sex\", \"Email\", \"Phone\", \"Job Title\"], skiprows=[15])\n",
        "\n",
        "# Setting [\"Sex\", \"Job Title\"] as index columns\n",
        "people_df.set_index([\"Sex\", \"Job Title\"], inplace=True)\n",
        "\n",
        "# Exporting the modified DataFrame to 'NewPeople.csv'\n",
        "people_df.to_csv('NewPeople.csv')\n"
      ],
      "metadata": {
        "id": "jypGNLCTcTyA"
      },
      "execution_count": 15,
      "outputs": []
    },
    {
      "cell_type": "markdown",
      "source": [
        "Q.7: **Import excel sheet ‘SampleWork.xlsx’ in the given folder. Keep in mind the following instructions:\n",
        "Import sheet 1\n",
        "Import only first and last column from sheet 1\n",
        "Skip row 2 while importing the sheet\n",
        "Set row 2 as header\n",
        "export as new sheet.**\n"
      ],
      "metadata": {
        "id": "YnV4s43Ni9jJ"
      }
    },
    {
      "cell_type": "code",
      "source": [
        "# Q.7: Import Excel 'SampleWork.xlsx'\n",
        "# Defining the path to the file\n",
        "sample_work_xlsx_path = '/content/SampleWork.xlsx'\n",
        "\n",
        "# Reading the Excel file with specific instructions\n",
        "sample_work_df = pd.read_excel(sample_work_xlsx_path, skiprows=1)  # Skipping the first row (header is set to row 2)\n",
        "sample_work_df = sample_work_df.iloc[:, [0, -1]]  # Selecting only the first and last columns\n",
        "new_sample_work_xlsx_path = '/content/SampleWork.xlsx'\n",
        "sample_work_df.to_excel(new_sample_work_xlsx_path, index=False)"
      ],
      "metadata": {
        "id": "oLyQrBH_gSPN"
      },
      "execution_count": 17,
      "outputs": []
    },
    {
      "cell_type": "markdown",
      "source": [
        "Q.8: **Create the following dataframe as AICP_DF then implement different operations as described below:\n",
        "select 'Name', 'Qualification' coloumns and save to df1\n",
        "add a new column to AICP_DF “Height” with the following values: [5.1, 6.2, 5.1, 5.2,5.1]\n",
        "set column “Name” as the index column.\n",
        "retrieve row with index “Hifza”\n",
        "retrieve row with index 3\n",
        "drop row with index “Bilal”**"
      ],
      "metadata": {
        "id": "dvQLpTA5kSu6"
      }
    },
    {
      "cell_type": "code",
      "source": [
        "import pandas as pd\n",
        "\n",
        "# Create the dataframe as specified\n",
        "AICP_DF = pd.DataFrame({\n",
        "    'Name': ['Sonia', 'Bilal', 'Hifza', 'Kabir', 'jazim'],\n",
        "    'Age': [27, 24, 22, 32, 23],\n",
        "    'Address': ['Lahore', 'Karachi', 'Sialkot', 'Peshawar', 'lhr'],\n",
        "    'Qualification': ['Msc', 'MA', 'MCA', 'Phd', 'bsc']\n",
        "})\n",
        "\n",
        "# Select 'Name', 'Qualification' columns and save to df1\n",
        "df1 = AICP_DF[['Name', 'Qualification']].copy()\n",
        "\n",
        "# Add a new column to AICP_DF 'Height' with the following values: [5.1, 6.2, 5.1, 5.2, 5.1]\n",
        "AICP_DF['Height'] = [5.1, 6.2, 5.1, 5.2, 5.1]\n",
        "\n",
        "# Set column “Name” as the index column.\n",
        "AICP_DF.set_index('Name', inplace=True)\n",
        "\n",
        "# Retrieve row with index “Hifza”\n",
        "row_hifza = AICP_DF.loc['Hifza']\n",
        "\n",
        "# Retrieve row with index 3\n",
        "row_index_3 = AICP_DF.iloc[3]\n",
        "\n",
        "# Drop row with index “Bilal”\n",
        "AICP_DF_dropped = AICP_DF.drop('Bilal')\n",
        "\n",
        "# Return the requested data as a dictionary\n",
        "{\n",
        "    'df1': df1,\n",
        "    'row_hifza': row_hifza,\n",
        "    'row_index_3': row_index_3,\n",
        "    'AICP_DF_dropped': AICP_DF_dropped,\n",
        "    'df1_file_path': '/mnt/data/df1.csv'\n",
        "}\n"
      ],
      "metadata": {
        "colab": {
          "base_uri": "https://localhost:8080/"
        },
        "id": "ZVP-mSnYgSXp",
        "outputId": "0b13f974-5f58-484f-f8ab-40ed3510e4ee"
      },
      "execution_count": 23,
      "outputs": [
        {
          "output_type": "execute_result",
          "data": {
            "text/plain": [
              "{'df1':     Name Qualification\n",
              " 0  Sonia           Msc\n",
              " 1  Bilal            MA\n",
              " 2  Hifza           MCA\n",
              " 3  Kabir           Phd\n",
              " 4  jazim           bsc,\n",
              " 'row_hifza': Age                   22\n",
              " Address          Sialkot\n",
              " Qualification        MCA\n",
              " Height               5.1\n",
              " Name: Hifza, dtype: object,\n",
              " 'row_index_3': Age                    32\n",
              " Address          Peshawar\n",
              " Qualification         Phd\n",
              " Height                5.2\n",
              " Name: Kabir, dtype: object,\n",
              " 'AICP_DF_dropped':        Age   Address Qualification  Height\n",
              " Name                                      \n",
              " Sonia   27    Lahore           Msc     5.1\n",
              " Hifza   22   Sialkot           MCA     5.1\n",
              " Kabir   32  Peshawar           Phd     5.2\n",
              " jazim   23       lhr           bsc     5.1,\n",
              " 'df1_file_path': '/mnt/data/df1.csv'}"
            ]
          },
          "metadata": {},
          "execution_count": 23
        }
      ]
    }
  ]
}