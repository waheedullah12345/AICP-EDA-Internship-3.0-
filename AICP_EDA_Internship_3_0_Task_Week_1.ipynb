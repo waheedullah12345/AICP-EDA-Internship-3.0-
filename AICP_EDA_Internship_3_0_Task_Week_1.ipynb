{
  "nbformat": 4,
  "nbformat_minor": 0,
  "metadata": {
    "colab": {
      "provenance": []
    },
    "kernelspec": {
      "name": "python3",
      "display_name": "Python 3"
    },
    "language_info": {
      "name": "python"
    }
  },
  "cells": [
    {
      "cell_type": "markdown",
      "source": [
        "#**AICP EDA Internship 3.0 Task Week 1**\n"
      ],
      "metadata": {
        "id": "TG2EZemqNXNq"
      }
    },
    {
      "cell_type": "markdown",
      "source": [
        "1. **Create an Array of All Even Integers from 30 to 70**"
      ],
      "metadata": {
        "id": "CPi0AFvvhNcS"
      }
    },
    {
      "cell_type": "code",
      "execution_count": 3,
      "metadata": {
        "colab": {
          "base_uri": "https://localhost:8080/"
        },
        "id": "4g_GR7rEXVZM",
        "outputId": "11b3e392-3e9d-40fc-cb78-c0c5f3984b70"
      },
      "outputs": [
        {
          "output_type": "stream",
          "name": "stdout",
          "text": [
            "Array of even integers from 30 to 70:\n",
            "[30 32 34 36 38 40 42 44 46 48 50 52 54 56 58 60 62 64 66 68 70]\n"
          ]
        }
      ],
      "source": [
        "import numpy as np\n",
        "\n",
        "even_integers = np.arange(30, 71, 2)\n",
        "print(\"Array of even integers from 30 to 70:\")\n",
        "print(even_integers)"
      ]
    },
    {
      "cell_type": "markdown",
      "source": [
        "2. **Generate an Array of 15 Random Numbers from a Standard Normal Distribution**\n"
      ],
      "metadata": {
        "id": "OKQy-FI7ilOl"
      }
    },
    {
      "cell_type": "code",
      "source": [
        "import numpy as np\n",
        "\n",
        "random_numbers = np.random.randn(15)\n",
        "print(\"Array of 15 random numbers from a standard normal distribution:\")\n",
        "print(random_numbers)"
      ],
      "metadata": {
        "colab": {
          "base_uri": "https://localhost:8080/"
        },
        "id": "t13C5QLCXWjL",
        "outputId": "b4d028db-e6a0-4583-f2dd-0d0d3d6b13a1"
      },
      "execution_count": 7,
      "outputs": [
        {
          "output_type": "stream",
          "name": "stdout",
          "text": [
            "Array of 15 random numbers from a standard normal distribution:\n",
            "[-1.34400634 -0.33983763  0.84710383 -0.53752537 -0.67261719 -1.63160033\n",
            "  0.51161812  0.30813556  0.17353145  0.42159574 -0.38444007 -0.61243245\n",
            " -0.03588688 -0.46094983 -0.10531341]\n"
          ]
        }
      ]
    },
    {
      "cell_type": "markdown",
      "source": [
        "3. **Compute the Cross-Product of Two Matrices**\n"
      ],
      "metadata": {
        "id": "IFBmHfNujiN5"
      }
    },
    {
      "cell_type": "code",
      "source": [
        "import numpy as np\n",
        "\n",
        "# Define two matrices\n",
        "matrix_a = np.array([[1, 2, 3], [4, 5, 6]])\n",
        "matrix_b = np.array([[7, 8, 9], [10, 11, 12]])\n",
        "\n",
        "# Compute the cross product\n",
        "cross_product = np.cross(matrix_a, matrix_b)\n",
        "print(cross_product)\n"
      ],
      "metadata": {
        "colab": {
          "base_uri": "https://localhost:8080/"
        },
        "id": "hMy_rxsjXWrd",
        "outputId": "deaf04ef-929c-4619-9587-69fdef78b660"
      },
      "execution_count": 8,
      "outputs": [
        {
          "output_type": "stream",
          "name": "stdout",
          "text": [
            "[[-6 12 -6]\n",
            " [-6 12 -6]]\n"
          ]
        }
      ]
    },
    {
      "cell_type": "markdown",
      "source": [
        "4. **compute the determinant of an array using NumPy**"
      ],
      "metadata": {
        "id": "cwBO7BErKq9h"
      }
    },
    {
      "cell_type": "code",
      "source": [
        "import numpy as np\n",
        "\n",
        "# Define a square matrix\n",
        "square_matrix = np.array([[4, 2], [3, 1]])\n",
        "\n",
        "# Calculate its determinant\n",
        "determinant = np.linalg.det(square_matrix)\n",
        "print(determinant)"
      ],
      "metadata": {
        "colab": {
          "base_uri": "https://localhost:8080/"
        },
        "id": "lHg0DlevXWv9",
        "outputId": "c1feb793-911d-4c18-db27-0b0b30763dc8"
      },
      "execution_count": 9,
      "outputs": [
        {
          "output_type": "stream",
          "name": "stdout",
          "text": [
            "-2.0\n"
          ]
        }
      ]
    },
    {
      "cell_type": "markdown",
      "source": [
        "5. **3x3x3 Array with Random Values**"
      ],
      "metadata": {
        "id": "MIUzyDwWLtid"
      }
    },
    {
      "cell_type": "code",
      "source": [
        "import numpy as np\n",
        "\n",
        "# Summon a 3x3x3 array with random values\n",
        "array_3x3x3 = np.random.random((3,3,3))\n",
        "print(array_3x3x3)"
      ],
      "metadata": {
        "colab": {
          "base_uri": "https://localhost:8080/"
        },
        "id": "0V50BPtZXW0U",
        "outputId": "c07b36a0-d5de-4af2-e4fd-623043214457"
      },
      "execution_count": 10,
      "outputs": [
        {
          "output_type": "stream",
          "name": "stdout",
          "text": [
            "[[[0.94599815 0.47398357 0.67067798]\n",
            "  [0.20565152 0.03754867 0.20473937]\n",
            "  [0.69018811 0.48405117 0.95095318]]\n",
            "\n",
            " [[0.17819183 0.18787135 0.89235114]\n",
            "  [0.70593823 0.56560168 0.83425618]\n",
            "  [0.19124785 0.76435035 0.2962919 ]]\n",
            "\n",
            " [[0.10754544 0.30412936 0.36135843]\n",
            "  [0.0112947  0.25227948 0.46843689]\n",
            "  [0.87966385 0.89293789 0.89877949]]]\n"
          ]
        }
      ]
    },
    {
      "cell_type": "markdown",
      "source": [
        "6. **5x5 Array with Random Values and Min/Max Values**"
      ],
      "metadata": {
        "id": "Hfa19uj-MF6o"
      }
    },
    {
      "cell_type": "code",
      "source": [
        "import numpy as np\n",
        "\n",
        "# Create a 5x5 array with random values\n",
        "array_5x5 = np.random.random((5,5))\n",
        "print(\"5x5 Array with Random Values:\")\n",
        "print(array_5x5)\n",
        "\n",
        "# Find the minimum and maximum values\n",
        "min_value = np.min(array_5x5)\n",
        "max_value = np.max(array_5x5)\n",
        "print(f\"Minimum Value: {min_value}\")\n",
        "print(f\"Maximum Value: {max_value}\")"
      ],
      "metadata": {
        "colab": {
          "base_uri": "https://localhost:8080/"
        },
        "id": "n0fOSKANXW4O",
        "outputId": "fdcf652b-e590-4dbb-fde2-88f912393fbc"
      },
      "execution_count": 11,
      "outputs": [
        {
          "output_type": "stream",
          "name": "stdout",
          "text": [
            "5x5 Array with Random Values:\n",
            "[[0.95408016 0.16701431 0.86434359 0.61039279 0.38947197]\n",
            " [0.42092571 0.27424534 0.10866232 0.678215   0.16388894]\n",
            " [0.28888935 0.82649029 0.30273682 0.31272149 0.43137331]\n",
            " [0.54793993 0.01335567 0.89954528 0.90714496 0.43909899]\n",
            " [0.3198955  0.43901758 0.8528212  0.14576117 0.74743181]]\n",
            "Minimum Value: 0.013355674679683682\n",
            "Maximum Value: 0.9540801604432497\n"
          ]
        }
      ]
    },
    {
      "cell_type": "markdown",
      "source": [
        "7. **Mean, Standard Deviation, and Variance Along the Second Axis**"
      ],
      "metadata": {
        "id": "aLyTVZ-qMRlP"
      }
    },
    {
      "cell_type": "code",
      "source": [
        "import numpy as np\n",
        "\n",
        "# Given array\n",
        "given_array = np.random.random((5,5))\n",
        "print(\"Given Array:\")\n",
        "print(given_array)\n",
        "\n",
        "# Compute the mean along the second axis\n",
        "mean = np.mean(given_array, axis=1)\n",
        "print(f\"Mean: {mean}\")\n",
        "\n",
        "# Compute the standard deviation along the second axis\n",
        "std_dev = np.std(given_array, axis=1)\n",
        "print(f\"Standard Deviation: {std_dev}\")\n",
        "\n",
        "# Compute the variance along the second axis\n",
        "variance = np.var(given_array, axis=1)\n",
        "print(f\"Variance: {variance}\")"
      ],
      "metadata": {
        "colab": {
          "base_uri": "https://localhost:8080/"
        },
        "id": "LZQ7VE50XW8f",
        "outputId": "e35572f4-540c-44f2-b98c-1228aa654024"
      },
      "execution_count": 12,
      "outputs": [
        {
          "output_type": "stream",
          "name": "stdout",
          "text": [
            "Given Array:\n",
            "[[0.34017835 0.64769802 0.47088183 0.35072188 0.62457318]\n",
            " [0.75637647 0.99110967 0.32048432 0.81510767 0.78285013]\n",
            " [0.88707997 0.81338943 0.23272494 0.51524182 0.94897962]\n",
            " [0.51655096 0.62472328 0.79121729 0.10877644 0.40893235]\n",
            " [0.22664195 0.93264428 0.30586208 0.05088657 0.36569482]]\n",
            "Mean: [0.48681065 0.73318565 0.67948316 0.49004006 0.37634594]\n",
            "Standard Deviation: [0.13048998 0.2220643  0.26841155 0.22868779 0.29761867]\n",
            "Variance: [0.01702763 0.04931256 0.07204476 0.05229811 0.08857687]\n"
          ]
        }
      ]
    },
    {
      "cell_type": "code",
      "source": [],
      "metadata": {
        "id": "rL6cyOVvXXAk"
      },
      "execution_count": null,
      "outputs": []
    },
    {
      "cell_type": "code",
      "source": [],
      "metadata": {
        "id": "Hbl9emjKXXEd"
      },
      "execution_count": null,
      "outputs": []
    },
    {
      "cell_type": "code",
      "source": [],
      "metadata": {
        "id": "zlS8h-A1XXIX"
      },
      "execution_count": null,
      "outputs": []
    }
  ]
}